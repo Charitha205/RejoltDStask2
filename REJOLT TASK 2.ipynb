{
 "cells": [
  {
   "cell_type": "code",
   "execution_count": 1,
   "id": "15088044",
   "metadata": {},
   "outputs": [
    {
     "name": "stdout",
     "output_type": "stream",
     "text": [
      "Requirement already satisfied: bs4 in c:\\users\\chari\\anaconda3\\lib\\site-packages (0.0.1)\n",
      "Requirement already satisfied: beautifulsoup4 in c:\\users\\chari\\anaconda3\\lib\\site-packages (from bs4) (4.12.2)\n",
      "Requirement already satisfied: soupsieve>1.2 in c:\\users\\chari\\anaconda3\\lib\\site-packages (from beautifulsoup4->bs4) (2.4)\n",
      "Requirement already satisfied: requests in c:\\users\\chari\\anaconda3\\lib\\site-packages (2.31.0)\n",
      "Requirement already satisfied: charset-normalizer<4,>=2 in c:\\users\\chari\\anaconda3\\lib\\site-packages (from requests) (2.0.4)\n",
      "Requirement already satisfied: idna<4,>=2.5 in c:\\users\\chari\\anaconda3\\lib\\site-packages (from requests) (3.4)\n",
      "Requirement already satisfied: urllib3<3,>=1.21.1 in c:\\users\\chari\\anaconda3\\lib\\site-packages (from requests) (1.26.16)\n",
      "Requirement already satisfied: certifi>=2017.4.17 in c:\\users\\chari\\anaconda3\\lib\\site-packages (from requests) (2023.7.22)\n",
      "Requirement already satisfied: html5lib in c:\\users\\chari\\anaconda3\\lib\\site-packages (1.1)\n",
      "Requirement already satisfied: six>=1.9 in c:\\users\\chari\\anaconda3\\lib\\site-packages (from html5lib) (1.16.0)\n",
      "Requirement already satisfied: webencodings in c:\\users\\chari\\anaconda3\\lib\\site-packages (from html5lib) (0.5.1)\n"
     ]
    }
   ],
   "source": [
    "!pip install bs4\n",
    "!pip install requests\n",
    "!pip install html5lib"
   ]
  },
  {
   "cell_type": "code",
   "execution_count": 3,
   "id": "899ae9e9",
   "metadata": {},
   "outputs": [],
   "source": [
    "import requests\n",
    "from bs4 import BeautifulSoup\n",
    "import pandas as pd\n"
   ]
  },
  {
   "cell_type": "code",
   "execution_count": 4,
   "id": "22ac3649",
   "metadata": {},
   "outputs": [],
   "source": [
    "url=\"https://www.flipkart.com/search?q=apple+mobiles&sid=tyy%2C4io&as=on&as-show=on&otracker=AS_QueryStore_OrganicAutoSuggest_1_7_na_na_na&otracker1=AS_QueryStore_OrganicAutoSuggest_1_7_na_na_na&as-pos=1&as-type=RECENT&suggestionId=apple+mobiles%7CMobiles&requestId=74513d15-9fcc-41ea-a7e0-16499e689ee3&as-backfill=on&otracker=nmenu_sub_Electronics_0_Apple\"\n",
    "req =requests.get(url)\n",
    "content =BeautifulSoup(req.content,'html.parser')\n"
   ]
  },
  {
   "cell_type": "code",
   "execution_count": 5,
   "id": "a4b7d6e4",
   "metadata": {},
   "outputs": [],
   "source": [
    "name=content.find_all('div',{'class':'_2kHMtA'})\n",
    "price=content.find_all('div',{'class':'_30jeq3 _1_WHN1'})\n",
    "features=content.find_all('div',{'class':'fMghEO'})\n"
   ]
  },
  {
   "cell_type": "code",
   "execution_count": 6,
   "id": "a6bb0af4",
   "metadata": {},
   "outputs": [],
   "source": [
    "nm=[]\n",
    "pr=[]\n",
    "fr=[]\n"
   ]
  },
  {
   "cell_type": "code",
   "execution_count": 7,
   "id": "3e0244af",
   "metadata": {},
   "outputs": [],
   "source": [
    "for i in name:\n",
    "    nm.append(i.text)\n",
    "for i in price:\n",
    "    pr.append(i.text)\n",
    "for i in features:\n",
    "    fr.append(i.text)\n"
   ]
  },
  {
   "cell_type": "code",
   "execution_count": 8,
   "id": "f8395590",
   "metadata": {},
   "outputs": [],
   "source": [
    "data={'Name':nm,'Price':pr,'Features':fr}\n",
    "df=pd.DataFrame(data)\n"
   ]
  },
  {
   "cell_type": "code",
   "execution_count": 9,
   "id": "d6652756",
   "metadata": {},
   "outputs": [
    {
     "name": "stdout",
     "output_type": "stream",
     "text": [
      "                                                 Name    Price  \\\n",
      "0   Add to CompareAPPLE iPhone 14 (Blue, 128 GB)4....  ₹57,999   \n",
      "1   Add to CompareAPPLE iPhone 14 (Starlight, 128 ...  ₹58,999   \n",
      "2   Add to CompareAPPLE iPhone 14 Plus (Blue, 128 ...  ₹63,999   \n",
      "3   Add to CompareAPPLE iPhone 14 (Midnight, 128 G...  ₹58,999   \n",
      "4   Add to CompareAPPLE iPhone 14 Plus (Starlight,...  ₹63,999   \n",
      "5   Add to CompareAPPLE iPhone 14 Plus (Midnight, ...  ₹63,999   \n",
      "6   Add to CompareAPPLE iPhone 14 Plus (Purple, 12...  ₹63,999   \n",
      "7   Add to CompareAPPLE iPhone 14 (Purple, 128 GB)...  ₹58,999   \n",
      "8   Add to CompareAPPLE iPhone 14 (Starlight, 256 ...  ₹67,499   \n",
      "9   Add to CompareAPPLE iPhone 12 (White, 64 GB)4....  ₹39,999   \n",
      "10  Add to CompareAPPLE iPhone 14 (Blue, 256 GB)4....  ₹67,999   \n",
      "11  Add to CompareAPPLE iPhone 12 (Blue, 64 GB)4.6...  ₹39,999   \n",
      "12  Add to CompareAPPLE iPhone 12 (Green, 64 GB)4....  ₹39,999   \n",
      "13  Add to CompareAPPLE iPhone 12 (Black, 64 GB)4....  ₹39,999   \n",
      "14  Add to CompareAPPLE iPhone 12 (Blue, 128 GB)4....  ₹44,999   \n",
      "15  Add to CompareAPPLE iPhone 14 (Purple, 256 GB)...  ₹68,999   \n",
      "16  Add to CompareAPPLE iPhone 14 (Midnight, 256 G...  ₹68,999   \n",
      "17  Add to CompareAPPLE iPhone 12 (Black, 128 GB)4...  ₹44,999   \n",
      "18  Add to CompareAPPLE iPhone 12 (White, 128 GB)4...  ₹44,999   \n",
      "19  Add to CompareAPPLE iPhone 13 (Blue, 128 GB)4....  ₹51,999   \n",
      "20  Add to CompareAPPLE iPhone 15 (Blue, 128 GB)4....  ₹79,900   \n",
      "21  Add to CompareAPPLE iPhone 15 (Black, 128 GB)4...  ₹79,900   \n",
      "22  Add to CompareAPPLE iPhone 14 ((PRODUCT)RED, 1...  ₹57,999   \n",
      "23  Add to CompareAPPLE iPhone 15 (Green, 128 GB)4...  ₹79,900   \n",
      "\n",
      "                                             Features  \n",
      "0   128 GB ROM15.49 cm (6.1 inch) Super Retina XDR...  \n",
      "1   128 GB ROM15.49 cm (6.1 inch) Super Retina XDR...  \n",
      "2   128 GB ROM17.02 cm (6.7 inch) Super Retina XDR...  \n",
      "3   128 GB ROM15.49 cm (6.1 inch) Super Retina XDR...  \n",
      "4   128 GB ROM17.02 cm (6.7 inch) Super Retina XDR...  \n",
      "5   128 GB ROM17.02 cm (6.7 inch) Super Retina XDR...  \n",
      "6   128 GB ROM17.02 cm (6.7 inch) Super Retina XDR...  \n",
      "7   128 GB ROM15.49 cm (6.1 inch) Super Retina XDR...  \n",
      "8   256 GB ROM15.49 cm (6.1 inch) Super Retina XDR...  \n",
      "9   64 GB ROM15.49 cm (6.1 inch) Super Retina XDR ...  \n",
      "10  256 GB ROM15.49 cm (6.1 inch) Super Retina XDR...  \n",
      "11  64 GB ROM15.49 cm (6.1 inch) Super Retina XDR ...  \n",
      "12  64 GB ROM15.49 cm (6.1 inch) Super Retina XDR ...  \n",
      "13  64 GB ROM15.49 cm (6.1 inch) Super Retina XDR ...  \n",
      "14  128 GB ROM15.49 cm (6.1 inch) Super Retina XDR...  \n",
      "15  256 GB ROM15.49 cm (6.1 inch) Super Retina XDR...  \n",
      "16  256 GB ROM15.49 cm (6.1 inch) Super Retina XDR...  \n",
      "17  128 GB ROM15.49 cm (6.1 inch) Super Retina XDR...  \n",
      "18  128 GB ROM15.49 cm (6.1 inch) Super Retina XDR...  \n",
      "19  128 GB ROM15.49 cm (6.1 inch) Super Retina XDR...  \n",
      "20  128 GB ROM15.49 cm (6.1 inch) Super Retina XDR...  \n",
      "21  128 GB ROM15.49 cm (6.1 inch) Super Retina XDR...  \n",
      "22  128 GB ROM15.49 cm (6.1 inch) Super Retina XDR...  \n",
      "23  128 GB ROM15.49 cm (6.1 inch) Super Retina XDR...  \n"
     ]
    }
   ],
   "source": [
    "print(df)"
   ]
  },
  {
   "cell_type": "code",
   "execution_count": 10,
   "id": "17705375",
   "metadata": {},
   "outputs": [
    {
     "data": {
      "text/html": [
       "<div>\n",
       "<style scoped>\n",
       "    .dataframe tbody tr th:only-of-type {\n",
       "        vertical-align: middle;\n",
       "    }\n",
       "\n",
       "    .dataframe tbody tr th {\n",
       "        vertical-align: top;\n",
       "    }\n",
       "\n",
       "    .dataframe thead th {\n",
       "        text-align: right;\n",
       "    }\n",
       "</style>\n",
       "<table border=\"1\" class=\"dataframe\">\n",
       "  <thead>\n",
       "    <tr style=\"text-align: right;\">\n",
       "      <th></th>\n",
       "      <th>Name</th>\n",
       "      <th>Price</th>\n",
       "      <th>Features</th>\n",
       "    </tr>\n",
       "  </thead>\n",
       "  <tbody>\n",
       "    <tr>\n",
       "      <th>0</th>\n",
       "      <td>Add to CompareAPPLE iPhone 14 (Blue, 128 GB)4....</td>\n",
       "      <td>₹57,999</td>\n",
       "      <td>128 GB ROM15.49 cm (6.1 inch) Super Retina XDR...</td>\n",
       "    </tr>\n",
       "    <tr>\n",
       "      <th>1</th>\n",
       "      <td>Add to CompareAPPLE iPhone 14 (Starlight, 128 ...</td>\n",
       "      <td>₹58,999</td>\n",
       "      <td>128 GB ROM15.49 cm (6.1 inch) Super Retina XDR...</td>\n",
       "    </tr>\n",
       "    <tr>\n",
       "      <th>2</th>\n",
       "      <td>Add to CompareAPPLE iPhone 14 Plus (Blue, 128 ...</td>\n",
       "      <td>₹63,999</td>\n",
       "      <td>128 GB ROM17.02 cm (6.7 inch) Super Retina XDR...</td>\n",
       "    </tr>\n",
       "    <tr>\n",
       "      <th>3</th>\n",
       "      <td>Add to CompareAPPLE iPhone 14 (Midnight, 128 G...</td>\n",
       "      <td>₹58,999</td>\n",
       "      <td>128 GB ROM15.49 cm (6.1 inch) Super Retina XDR...</td>\n",
       "    </tr>\n",
       "    <tr>\n",
       "      <th>4</th>\n",
       "      <td>Add to CompareAPPLE iPhone 14 Plus (Starlight,...</td>\n",
       "      <td>₹63,999</td>\n",
       "      <td>128 GB ROM17.02 cm (6.7 inch) Super Retina XDR...</td>\n",
       "    </tr>\n",
       "  </tbody>\n",
       "</table>\n",
       "</div>"
      ],
      "text/plain": [
       "                                                Name    Price  \\\n",
       "0  Add to CompareAPPLE iPhone 14 (Blue, 128 GB)4....  ₹57,999   \n",
       "1  Add to CompareAPPLE iPhone 14 (Starlight, 128 ...  ₹58,999   \n",
       "2  Add to CompareAPPLE iPhone 14 Plus (Blue, 128 ...  ₹63,999   \n",
       "3  Add to CompareAPPLE iPhone 14 (Midnight, 128 G...  ₹58,999   \n",
       "4  Add to CompareAPPLE iPhone 14 Plus (Starlight,...  ₹63,999   \n",
       "\n",
       "                                            Features  \n",
       "0  128 GB ROM15.49 cm (6.1 inch) Super Retina XDR...  \n",
       "1  128 GB ROM15.49 cm (6.1 inch) Super Retina XDR...  \n",
       "2  128 GB ROM17.02 cm (6.7 inch) Super Retina XDR...  \n",
       "3  128 GB ROM15.49 cm (6.1 inch) Super Retina XDR...  \n",
       "4  128 GB ROM17.02 cm (6.7 inch) Super Retina XDR...  "
      ]
     },
     "execution_count": 10,
     "metadata": {},
     "output_type": "execute_result"
    }
   ],
   "source": [
    "df.head()"
   ]
  },
  {
   "cell_type": "code",
   "execution_count": 11,
   "id": "09691479",
   "metadata": {},
   "outputs": [
    {
     "data": {
      "text/html": [
       "<div>\n",
       "<style scoped>\n",
       "    .dataframe tbody tr th:only-of-type {\n",
       "        vertical-align: middle;\n",
       "    }\n",
       "\n",
       "    .dataframe tbody tr th {\n",
       "        vertical-align: top;\n",
       "    }\n",
       "\n",
       "    .dataframe thead th {\n",
       "        text-align: right;\n",
       "    }\n",
       "</style>\n",
       "<table border=\"1\" class=\"dataframe\">\n",
       "  <thead>\n",
       "    <tr style=\"text-align: right;\">\n",
       "      <th></th>\n",
       "      <th>Name</th>\n",
       "      <th>Price</th>\n",
       "      <th>Features</th>\n",
       "    </tr>\n",
       "  </thead>\n",
       "  <tbody>\n",
       "    <tr>\n",
       "      <th>19</th>\n",
       "      <td>Add to CompareAPPLE iPhone 13 (Blue, 128 GB)4....</td>\n",
       "      <td>₹51,999</td>\n",
       "      <td>128 GB ROM15.49 cm (6.1 inch) Super Retina XDR...</td>\n",
       "    </tr>\n",
       "    <tr>\n",
       "      <th>20</th>\n",
       "      <td>Add to CompareAPPLE iPhone 15 (Blue, 128 GB)4....</td>\n",
       "      <td>₹79,900</td>\n",
       "      <td>128 GB ROM15.49 cm (6.1 inch) Super Retina XDR...</td>\n",
       "    </tr>\n",
       "    <tr>\n",
       "      <th>21</th>\n",
       "      <td>Add to CompareAPPLE iPhone 15 (Black, 128 GB)4...</td>\n",
       "      <td>₹79,900</td>\n",
       "      <td>128 GB ROM15.49 cm (6.1 inch) Super Retina XDR...</td>\n",
       "    </tr>\n",
       "    <tr>\n",
       "      <th>22</th>\n",
       "      <td>Add to CompareAPPLE iPhone 14 ((PRODUCT)RED, 1...</td>\n",
       "      <td>₹57,999</td>\n",
       "      <td>128 GB ROM15.49 cm (6.1 inch) Super Retina XDR...</td>\n",
       "    </tr>\n",
       "    <tr>\n",
       "      <th>23</th>\n",
       "      <td>Add to CompareAPPLE iPhone 15 (Green, 128 GB)4...</td>\n",
       "      <td>₹79,900</td>\n",
       "      <td>128 GB ROM15.49 cm (6.1 inch) Super Retina XDR...</td>\n",
       "    </tr>\n",
       "  </tbody>\n",
       "</table>\n",
       "</div>"
      ],
      "text/plain": [
       "                                                 Name    Price  \\\n",
       "19  Add to CompareAPPLE iPhone 13 (Blue, 128 GB)4....  ₹51,999   \n",
       "20  Add to CompareAPPLE iPhone 15 (Blue, 128 GB)4....  ₹79,900   \n",
       "21  Add to CompareAPPLE iPhone 15 (Black, 128 GB)4...  ₹79,900   \n",
       "22  Add to CompareAPPLE iPhone 14 ((PRODUCT)RED, 1...  ₹57,999   \n",
       "23  Add to CompareAPPLE iPhone 15 (Green, 128 GB)4...  ₹79,900   \n",
       "\n",
       "                                             Features  \n",
       "19  128 GB ROM15.49 cm (6.1 inch) Super Retina XDR...  \n",
       "20  128 GB ROM15.49 cm (6.1 inch) Super Retina XDR...  \n",
       "21  128 GB ROM15.49 cm (6.1 inch) Super Retina XDR...  \n",
       "22  128 GB ROM15.49 cm (6.1 inch) Super Retina XDR...  \n",
       "23  128 GB ROM15.49 cm (6.1 inch) Super Retina XDR...  "
      ]
     },
     "execution_count": 11,
     "metadata": {},
     "output_type": "execute_result"
    }
   ],
   "source": [
    "df.tail()"
   ]
  },
  {
   "cell_type": "code",
   "execution_count": null,
   "id": "99f67483",
   "metadata": {},
   "outputs": [],
   "source": []
  }
 ],
 "metadata": {
  "kernelspec": {
   "display_name": "Python 3 (ipykernel)",
   "language": "python",
   "name": "python3"
  },
  "language_info": {
   "codemirror_mode": {
    "name": "ipython",
    "version": 3
   },
   "file_extension": ".py",
   "mimetype": "text/x-python",
   "name": "python",
   "nbconvert_exporter": "python",
   "pygments_lexer": "ipython3",
   "version": "3.11.5"
  }
 },
 "nbformat": 4,
 "nbformat_minor": 5
}
